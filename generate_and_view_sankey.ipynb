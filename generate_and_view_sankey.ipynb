{
 "cells": [
  {
   "cell_type": "markdown",
   "id": "343f3210",
   "metadata": {},
   "source": [
    "# Génération et visualisation d'un diagramme Sankey\n",
    "\n",
    "Ce notebook convertit un fichier Excel présent dans `docs/` en `docs/data.json` puis ouvre le diagramme dans le navigateur."
   ]
  },
  {
   "cell_type": "code",
   "execution_count": null,
   "id": "cfad7060",
   "metadata": {},
   "outputs": [],
   "source": [
    "from pathlib import Path\n",
    "import json\n",
    "from scripts.convert_excel_to_sankey import excel_to_sankey\n",
    "\n",
    "excel_path = Path('docs/SankeyTest1.xlsx')  # fichier Excel source\n",
    "output_json = Path('docs/data.json')\n",
    "\n",
    "data = excel_to_sankey(excel_path)\n",
    "output_json.write_text(json.dumps(data, indent=2, ensure_ascii=False))\n",
    "print(f'{output_json} généré')"
   ]
  },
  {
   "cell_type": "code",
   "execution_count": null,
   "id": "3c48dc1f",
   "metadata": {},
   "outputs": [],
   "source": [
    "import json\n",
    "import plotly.graph_objects as go\n",
    "\n",
    "with open('docs/data.json', encoding='utf-8') as f:\n",
    "    data = json.load(f)\n",
    "\n",
    "fig = go.Figure(go.Sankey(node=data['node'], link=data['link']))\n",
    "fig.update_layout(width=1600, height=800)\n",
    "fig.show(renderer='browser')"
   ]
  }
 ],
 "metadata": {},
 "nbformat": 4,
 "nbformat_minor": 5
}
